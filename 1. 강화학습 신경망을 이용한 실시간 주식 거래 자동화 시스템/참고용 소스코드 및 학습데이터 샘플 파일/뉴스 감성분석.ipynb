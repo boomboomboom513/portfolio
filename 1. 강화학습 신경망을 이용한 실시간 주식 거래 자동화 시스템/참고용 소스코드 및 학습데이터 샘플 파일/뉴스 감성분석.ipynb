{
 "cells": [
  {
   "cell_type": "code",
   "execution_count": 7,
   "metadata": {},
   "outputs": [],
   "source": [
    "# 감성분석 모델 불러오기\n",
    "# AutoTokenizer -> Tokenizer로 입력된 데이터를 token으로 바꾸는 역할\n",
    "# AutoModelForSequenceClassification은 Hugging Face 라이브러리의 Transformers에서 제공하는 클래스이며\n",
    "# 자동으로 시퀀스 분류 작업에 사용할 수 있는 사전 훈련된 모델을 선택하고, 이를 미세 조정(fine-tuning)하는 데 사용한다.\n",
    "from transformers import AutoTokenizer, AutoModelForSequenceClassification\n",
    "from transformers import pipeline\n",
    "import pandas as pd"
   ]
  },
  {
   "cell_type": "code",
   "execution_count": 4,
   "metadata": {},
   "outputs": [],
   "source": [
    "tokenizer = AutoTokenizer.from_pretrained('snunlp/KR-FinBert-SC')\n",
    "model = AutoModelForSequenceClassification.from_pretrained('snunlp/KR-FinBert-SC')\n",
    "classifier = pipeline(task='text-classification', model=model, tokenizer=tokenizer)"
   ]
  },
  {
   "cell_type": "code",
   "execution_count": 57,
   "metadata": {},
   "outputs": [
    {
     "data": {
      "text/html": [
       "<div>\n",
       "<style scoped>\n",
       "    .dataframe tbody tr th:only-of-type {\n",
       "        vertical-align: middle;\n",
       "    }\n",
       "\n",
       "    .dataframe tbody tr th {\n",
       "        vertical-align: top;\n",
       "    }\n",
       "\n",
       "    .dataframe thead th {\n",
       "        text-align: right;\n",
       "    }\n",
       "</style>\n",
       "<table border=\"1\" class=\"dataframe\">\n",
       "  <thead>\n",
       "    <tr style=\"text-align: right;\">\n",
       "      <th></th>\n",
       "      <th>날짜</th>\n",
       "      <th>제목</th>\n",
       "      <th>내용</th>\n",
       "    </tr>\n",
       "  </thead>\n",
       "  <tbody>\n",
       "    <tr>\n",
       "      <th>0</th>\n",
       "      <td>2022.08.22 09:52</td>\n",
       "      <td>리서치알음 \"싸이맥스, 반도체 장비 국산화 정책과 고객 다변화 수혜 기대“</td>\n",
       "      <td>[파이낸셜뉴스] 리서치알음은 22일 싸이맥스에 대해 반도체 장비 국산화 정책과 고...</td>\n",
       "    </tr>\n",
       "    <tr>\n",
       "      <th>1</th>\n",
       "      <td>2022.09.08 10:13</td>\n",
       "      <td>[특징주]싸이맥스, 삼성 국내최초 'K로봇 ETF' 출시…국내 유일 보행 보조 로봇...</td>\n",
       "      <td>[파이낸셜뉴스]우리나라 로봇 관련주에 투자하는 상장지수펀드(ETF)가 처음으로...</td>\n",
       "    </tr>\n",
       "    <tr>\n",
       "      <th>2</th>\n",
       "      <td>2023.02.22 19:23</td>\n",
       "      <td>싸이맥스, 작년 영업익 211억…전년比 34% ↓</td>\n",
       "      <td>[이데일리 김보겸 기자] 싸이맥스(160980)는 연결재무제표 기준 지난해 영업이...</td>\n",
       "    </tr>\n",
       "    <tr>\n",
       "      <th>3</th>\n",
       "      <td>2023.02.27 14:13</td>\n",
       "      <td>840兆 헬스케어 로봇 M&amp;A 열릴까...싸이맥스 등 관련주 부각</td>\n",
       "      <td>싸이맥스 CI  [파이낸셜뉴스] 국내 헬스케어 관련 로봇주에 대한 관심이 뜨겁다. ...</td>\n",
       "    </tr>\n",
       "    <tr>\n",
       "      <th>4</th>\n",
       "      <td>2023.03.08 16:55</td>\n",
       "      <td>싸이맥스, 주당 300원 현금배당 결정</td>\n",
       "      <td>[헤럴드경제=증권부] 싸이맥스는 보통주 1주당 300원의 현금 결산배당을 결정했다...</td>\n",
       "    </tr>\n",
       "    <tr>\n",
       "      <th>5</th>\n",
       "      <td>2023.03.09 08:24</td>\n",
       "      <td>싸이맥스, 23일 정기 주주총회 개최</td>\n",
       "      <td>[서울=뉴시스] 박은비 기자 = 싸이맥스는 23일 오전 9시 경기 화성시 본사 대...</td>\n",
       "    </tr>\n",
       "    <tr>\n",
       "      <th>6</th>\n",
       "      <td>2023.03.17 13:51</td>\n",
       "      <td>[특징주]싸이맥스, 삼성重과 자율용접로봇시스템 국책과제 부각...로봇용접 비중 70%↑</td>\n",
       "      <td>싸이맥스 CI  [파이낸셜뉴스] 코스닥 상장사 싸이맥스가 삼성중공업과 자율용접로봇시...</td>\n",
       "    </tr>\n",
       "    <tr>\n",
       "      <th>7</th>\n",
       "      <td>2023.03.23 13:08</td>\n",
       "      <td>싸이맥스, 정혜승·정광영·정구용 대표이사 체제로 변경</td>\n",
       "      <td>[서울=뉴시스] 신항섭 기자 = 싸이맥스는 정구용 사내이사의 대표이사직 신규 선임...</td>\n",
       "    </tr>\n",
       "    <tr>\n",
       "      <th>8</th>\n",
       "      <td>2023.03.23 14:09</td>\n",
       "      <td>싸이맥스, 정혜승·정광영·정구용 대표이사 3인 체제 전환</td>\n",
       "      <td>[이데일리 이은정 기자] 싸이맥스(160980)는 이어 정구용 대표이사가 신규 선...</td>\n",
       "    </tr>\n",
       "  </tbody>\n",
       "</table>\n",
       "</div>"
      ],
      "text/plain": [
       "                 날짜                                                 제목  \\\n",
       "0  2022.08.22 09:52          리서치알음 \"싸이맥스, 반도체 장비 국산화 정책과 고객 다변화 수혜 기대“   \n",
       "1  2022.09.08 10:13  [특징주]싸이맥스, 삼성 국내최초 'K로봇 ETF' 출시…국내 유일 보행 보조 로봇...   \n",
       "2  2023.02.22 19:23                        싸이맥스, 작년 영업익 211억…전년比 34% ↓   \n",
       "3  2023.02.27 14:13               840兆 헬스케어 로봇 M&A 열릴까...싸이맥스 등 관련주 부각   \n",
       "4  2023.03.08 16:55                              싸이맥스, 주당 300원 현금배당 결정   \n",
       "5  2023.03.09 08:24                               싸이맥스, 23일 정기 주주총회 개최   \n",
       "6  2023.03.17 13:51   [특징주]싸이맥스, 삼성重과 자율용접로봇시스템 국책과제 부각...로봇용접 비중 70%↑   \n",
       "7  2023.03.23 13:08                      싸이맥스, 정혜승·정광영·정구용 대표이사 체제로 변경   \n",
       "8  2023.03.23 14:09                    싸이맥스, 정혜승·정광영·정구용 대표이사 3인 체제 전환   \n",
       "\n",
       "                                                  내용  \n",
       "0   [파이낸셜뉴스] 리서치알음은 22일 싸이맥스에 대해 반도체 장비 국산화 정책과 고...  \n",
       "1     [파이낸셜뉴스]우리나라 로봇 관련주에 투자하는 상장지수펀드(ETF)가 처음으로...  \n",
       "2   [이데일리 김보겸 기자] 싸이맥스(160980)는 연결재무제표 기준 지난해 영업이...  \n",
       "3  싸이맥스 CI  [파이낸셜뉴스] 국내 헬스케어 관련 로봇주에 대한 관심이 뜨겁다. ...  \n",
       "4   [헤럴드경제=증권부] 싸이맥스는 보통주 1주당 300원의 현금 결산배당을 결정했다...  \n",
       "5   [서울=뉴시스] 박은비 기자 = 싸이맥스는 23일 오전 9시 경기 화성시 본사 대...  \n",
       "6  싸이맥스 CI  [파이낸셜뉴스] 코스닥 상장사 싸이맥스가 삼성중공업과 자율용접로봇시...  \n",
       "7   [서울=뉴시스] 신항섭 기자 = 싸이맥스는 정구용 사내이사의 대표이사직 신규 선임...  \n",
       "8   [이데일리 이은정 기자] 싸이맥스(160980)는 이어 정구용 대표이사가 신규 선...  "
      ]
     },
     "execution_count": 57,
     "metadata": {},
     "output_type": "execute_result"
    }
   ],
   "source": [
    "newsData = pd.read_csv('./dbuploadData/싸이맥스 뉴스 데이터.csv', encoding='euc-kr')\n",
    "newsData"
   ]
  },
  {
   "cell_type": "code",
   "execution_count": 72,
   "metadata": {},
   "outputs": [
    {
     "name": "stdout",
     "output_type": "stream",
     "text": [
      "이 뉴스는 부정적 뉴스이다. 부정적일 확률 : 99.97%\n"
     ]
    }
   ],
   "source": [
    "# neutral 중립, positive 긍정, negative 부정\n",
    "if classifier(newsData['내용'][2])[0]['label'] == 'positive':\n",
    "    print('이 뉴스는 긍정적 뉴스이다. 긍정적일 확률 : '+str(round(classifier(newsData['내용'][2])[0]['score'] * 100, 2))+'%')\n",
    "elif classifier(newsData['내용'][2])[0]['label'] == 'negative':\n",
    "    print('이 뉴스는 부정적 뉴스이다. 부정적일 확률 : '+str(round(classifier(newsData['내용'][2])[0]['score'] * 100, 2))+'%')\n",
    "else:\n",
    "    print('이 뉴스는 중립적 뉴스이다. 중립적일 확률 : '+str(round(classifier(newsData['내용'][2])[0]['score'] * 100, 2))+'%')"
   ]
  }
 ],
 "metadata": {
  "kernelspec": {
   "display_name": "dl-dev-gpu",
   "language": "python",
   "name": "python3"
  },
  "language_info": {
   "codemirror_mode": {
    "name": "ipython",
    "version": 3
   },
   "file_extension": ".py",
   "mimetype": "text/x-python",
   "name": "python",
   "nbconvert_exporter": "python",
   "pygments_lexer": "ipython3",
   "version": "3.10.11"
  },
  "orig_nbformat": 4
 },
 "nbformat": 4,
 "nbformat_minor": 2
}
