{
 "cells": [
  {
   "cell_type": "code",
   "execution_count": 1,
   "metadata": {},
   "outputs": [],
   "source": [
    "import win32com.client"
   ]
  },
  {
   "cell_type": "code",
   "execution_count": 2,
   "metadata": {},
   "outputs": [],
   "source": [
    "instCpCybos = win32com.client.Dispatch('CpUtil.CpCybos')\n",
    "cpTradeUtil =  win32com.client.Dispatch(\"CpTrade.CpTdUtil\")\n",
    "instCpTdNew5331A =  win32com.client.Dispatch(\"CpTrade.CpTdNew5331A\")\n",
    "instCpTdNew5331B = win32com.client.Dispatch(\"CpTrade.CpTdNew5331B\")\n",
    "instCpTd0311 = win32com.client.Dispatch(\"CpTrade.CpTd0311\")  # 매수 매도 주문 인스턴스"
   ]
  },
  {
   "cell_type": "code",
   "execution_count": 3,
   "metadata": {},
   "outputs": [],
   "source": [
    "cpTradeUtil.TradeInit()\n",
    "acc = cpTradeUtil.AccountNumber[0]\n",
    "accFlag = cpTradeUtil.GoodsList(acc, 1)"
   ]
  },
  {
   "cell_type": "code",
   "execution_count": 10,
   "metadata": {},
   "outputs": [
    {
     "name": "stdout",
     "output_type": "stream",
     "text": [
      "거래 가능한 계좌 잔액 : 498928506원\n"
     ]
    }
   ],
   "source": [
    "instCpTdNew5331A.SetInputValue(0, acc)\n",
    "instCpTdNew5331A.BlockRequest()\n",
    "print('거래 가능한 계좌 잔액 : '+str(instCpTdNew5331A.GetHeaderValue(10))+'원')"
   ]
  },
  {
   "cell_type": "code",
   "execution_count": 7,
   "metadata": {},
   "outputs": [
    {
     "name": "stdout",
     "output_type": "stream",
     "text": [
      "계좌명 : \n",
      "이름 : \n",
      "체결수량 : 0\n"
     ]
    }
   ],
   "source": [
    "# 매수 코드\n",
    "instCpTd0311.SetInputValue(0,'2')\n",
    "instCpTd0311.SetInputValue(1,acc)\n",
    "instCpTd0311.SetInputValue(2,accFlag[0])\n",
    "instCpTd0311.SetInputValue(3,'A328130')\n",
    "instCpTd0311.SetInputValue(4,1)\n",
    "instCpTd0311.SetInputValue(8,'03') #01보통 03시장가 13최우선지정가\n",
    "instCpTd0311.BlockRequest()\n",
    "print('계좌명 : '+str(instCpTd0311.GetHeaderValue(1)))\n",
    "print('이름 : '+str(instCpTd0311.GetHeaderValue(9)))\n",
    "print('체결수량 : '+str(instCpTd0311.GetHeaderValue(4)))"
   ]
  },
  {
   "cell_type": "code",
   "execution_count": 43,
   "metadata": {},
   "outputs": [
    {
     "name": "stdout",
     "output_type": "stream",
     "text": [
      "계좌명 : \n",
      "이름 : \n",
      "체결수량 : 0\n"
     ]
    }
   ],
   "source": [
    "# 매도 코드\n",
    "instCpTd0311.SetInputValue(0,'1')\n",
    "instCpTd0311.SetInputValue(1,acc)\n",
    "instCpTd0311.SetInputValue(2,accFlag[0])\n",
    "instCpTd0311.SetInputValue(3,'A328130')\n",
    "instCpTd0311.SetInputValue(4,1)\n",
    "instCpTd0311.SetInputValue(8,'03')\n",
    "instCpTd0311.BlockRequest()\n",
    "print('계좌명 : '+str(instCpTd0311.GetHeaderValue(1)))\n",
    "print('이름 : '+str(instCpTd0311.GetHeaderValue(9)))\n",
    "print('체결수량 : '+str(instCpTd0311.GetHeaderValue(4)))"
   ]
  }
 ],
 "metadata": {
  "kernelspec": {
   "display_name": "py32",
   "language": "python",
   "name": "python3"
  },
  "language_info": {
   "codemirror_mode": {
    "name": "ipython",
    "version": 3
   },
   "file_extension": ".py",
   "mimetype": "text/x-python",
   "name": "python",
   "nbconvert_exporter": "python",
   "pygments_lexer": "ipython3",
   "version": "3.10.4"
  },
  "orig_nbformat": 4
 },
 "nbformat": 4,
 "nbformat_minor": 2
}
