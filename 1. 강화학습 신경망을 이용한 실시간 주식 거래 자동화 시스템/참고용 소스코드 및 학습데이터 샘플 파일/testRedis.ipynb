{
 "cells": [
  {
   "cell_type": "code",
   "execution_count": 1,
   "metadata": {},
   "outputs": [],
   "source": [
    "import redis\n",
    "import pandas as pd"
   ]
  },
  {
   "cell_type": "code",
   "execution_count": 3,
   "metadata": {},
   "outputs": [
    {
     "data": {
      "text/html": [
       "<div>\n",
       "<style scoped>\n",
       "    .dataframe tbody tr th:only-of-type {\n",
       "        vertical-align: middle;\n",
       "    }\n",
       "\n",
       "    .dataframe tbody tr th {\n",
       "        vertical-align: top;\n",
       "    }\n",
       "\n",
       "    .dataframe thead th {\n",
       "        text-align: right;\n",
       "    }\n",
       "</style>\n",
       "<table border=\"1\" class=\"dataframe\">\n",
       "  <thead>\n",
       "    <tr style=\"text-align: right;\">\n",
       "      <th></th>\n",
       "      <th>종목코드</th>\n",
       "      <th>종목명</th>\n",
       "      <th>날짜</th>\n",
       "      <th>시간</th>\n",
       "      <th>시가</th>\n",
       "      <th>고가</th>\n",
       "      <th>저가</th>\n",
       "      <th>종가</th>\n",
       "      <th>거래량</th>\n",
       "    </tr>\n",
       "  </thead>\n",
       "  <tbody>\n",
       "    <tr>\n",
       "      <th>0</th>\n",
       "      <td>A263800</td>\n",
       "      <td>데이타솔루션</td>\n",
       "      <td>20210629</td>\n",
       "      <td>901</td>\n",
       "      <td>7300.0</td>\n",
       "      <td>7300.0</td>\n",
       "      <td>7210.0</td>\n",
       "      <td>7210.0</td>\n",
       "      <td>180.0</td>\n",
       "    </tr>\n",
       "    <tr>\n",
       "      <th>1</th>\n",
       "      <td>A263800</td>\n",
       "      <td>데이타솔루션</td>\n",
       "      <td>20210629</td>\n",
       "      <td>902</td>\n",
       "      <td>7250.0</td>\n",
       "      <td>7250.0</td>\n",
       "      <td>7140.0</td>\n",
       "      <td>7140.0</td>\n",
       "      <td>2121.0</td>\n",
       "    </tr>\n",
       "    <tr>\n",
       "      <th>2</th>\n",
       "      <td>A263800</td>\n",
       "      <td>데이타솔루션</td>\n",
       "      <td>20210629</td>\n",
       "      <td>903</td>\n",
       "      <td>7140.0</td>\n",
       "      <td>7190.0</td>\n",
       "      <td>7130.0</td>\n",
       "      <td>7190.0</td>\n",
       "      <td>2791.0</td>\n",
       "    </tr>\n",
       "    <tr>\n",
       "      <th>3</th>\n",
       "      <td>A263800</td>\n",
       "      <td>데이타솔루션</td>\n",
       "      <td>20210629</td>\n",
       "      <td>904</td>\n",
       "      <td>7190.0</td>\n",
       "      <td>7230.0</td>\n",
       "      <td>7190.0</td>\n",
       "      <td>7230.0</td>\n",
       "      <td>2791.0</td>\n",
       "    </tr>\n",
       "    <tr>\n",
       "      <th>4</th>\n",
       "      <td>A263800</td>\n",
       "      <td>데이타솔루션</td>\n",
       "      <td>20210629</td>\n",
       "      <td>905</td>\n",
       "      <td>7230.0</td>\n",
       "      <td>7230.0</td>\n",
       "      <td>7220.0</td>\n",
       "      <td>7220.0</td>\n",
       "      <td>2805.0</td>\n",
       "    </tr>\n",
       "    <tr>\n",
       "      <th>...</th>\n",
       "      <td>...</td>\n",
       "      <td>...</td>\n",
       "      <td>...</td>\n",
       "      <td>...</td>\n",
       "      <td>...</td>\n",
       "      <td>...</td>\n",
       "      <td>...</td>\n",
       "      <td>...</td>\n",
       "      <td>...</td>\n",
       "    </tr>\n",
       "    <tr>\n",
       "      <th>146180</th>\n",
       "      <td>A263800</td>\n",
       "      <td>데이타솔루션</td>\n",
       "      <td>20230707</td>\n",
       "      <td>1233</td>\n",
       "      <td>6000.0</td>\n",
       "      <td>6000.0</td>\n",
       "      <td>6000.0</td>\n",
       "      <td>6000.0</td>\n",
       "      <td>216762.0</td>\n",
       "    </tr>\n",
       "    <tr>\n",
       "      <th>146181</th>\n",
       "      <td>A263800</td>\n",
       "      <td>데이타솔루션</td>\n",
       "      <td>20230707</td>\n",
       "      <td>1233</td>\n",
       "      <td>6000.0</td>\n",
       "      <td>6010.0</td>\n",
       "      <td>5970.0</td>\n",
       "      <td>5970.0</td>\n",
       "      <td>216840.0</td>\n",
       "    </tr>\n",
       "    <tr>\n",
       "      <th>146182</th>\n",
       "      <td>A263800</td>\n",
       "      <td>데이타솔루션</td>\n",
       "      <td>20230707</td>\n",
       "      <td>1234</td>\n",
       "      <td>5980.0</td>\n",
       "      <td>5980.0</td>\n",
       "      <td>5980.0</td>\n",
       "      <td>5980.0</td>\n",
       "      <td>216840.0</td>\n",
       "    </tr>\n",
       "    <tr>\n",
       "      <th>146183</th>\n",
       "      <td>A263800</td>\n",
       "      <td>데이타솔루션</td>\n",
       "      <td>20230707</td>\n",
       "      <td>1235</td>\n",
       "      <td>5990.0</td>\n",
       "      <td>5990.0</td>\n",
       "      <td>5990.0</td>\n",
       "      <td>5990.0</td>\n",
       "      <td>216840.0</td>\n",
       "    </tr>\n",
       "    <tr>\n",
       "      <th>146184</th>\n",
       "      <td>A263800</td>\n",
       "      <td>데이타솔루션</td>\n",
       "      <td>20230707</td>\n",
       "      <td>1236</td>\n",
       "      <td>5990.0</td>\n",
       "      <td>5990.0</td>\n",
       "      <td>5980.0</td>\n",
       "      <td>5990.0</td>\n",
       "      <td>216860.0</td>\n",
       "    </tr>\n",
       "  </tbody>\n",
       "</table>\n",
       "<p>146185 rows × 9 columns</p>\n",
       "</div>"
      ],
      "text/plain": [
       "           종목코드     종목명        날짜    시간      시가      고가      저가      종가  \\\n",
       "0       A263800  데이타솔루션  20210629   901  7300.0  7300.0  7210.0  7210.0   \n",
       "1       A263800  데이타솔루션  20210629   902  7250.0  7250.0  7140.0  7140.0   \n",
       "2       A263800  데이타솔루션  20210629   903  7140.0  7190.0  7130.0  7190.0   \n",
       "3       A263800  데이타솔루션  20210629   904  7190.0  7230.0  7190.0  7230.0   \n",
       "4       A263800  데이타솔루션  20210629   905  7230.0  7230.0  7220.0  7220.0   \n",
       "...         ...     ...       ...   ...     ...     ...     ...     ...   \n",
       "146180  A263800  데이타솔루션  20230707  1233  6000.0  6000.0  6000.0  6000.0   \n",
       "146181  A263800  데이타솔루션  20230707  1233  6000.0  6010.0  5970.0  5970.0   \n",
       "146182  A263800  데이타솔루션  20230707  1234  5980.0  5980.0  5980.0  5980.0   \n",
       "146183  A263800  데이타솔루션  20230707  1235  5990.0  5990.0  5990.0  5990.0   \n",
       "146184  A263800  데이타솔루션  20230707  1236  5990.0  5990.0  5980.0  5990.0   \n",
       "\n",
       "             거래량  \n",
       "0          180.0  \n",
       "1         2121.0  \n",
       "2         2791.0  \n",
       "3         2791.0  \n",
       "4         2805.0  \n",
       "...          ...  \n",
       "146180  216762.0  \n",
       "146181  216840.0  \n",
       "146182  216840.0  \n",
       "146183  216840.0  \n",
       "146184  216860.0  \n",
       "\n",
       "[146185 rows x 9 columns]"
      ]
     },
     "execution_count": 3,
     "metadata": {},
     "output_type": "execute_result"
    }
   ],
   "source": [
    "dataDf = pd.read_csv('./32bit/hapminstockdata/데이타솔루션 분 단위 주식 데이터.csv', encoding='euc-kr')\n",
    "dataDf"
   ]
  },
  {
   "cell_type": "code",
   "execution_count": 38,
   "metadata": {},
   "outputs": [
    {
     "data": {
      "text/plain": [
       "'A263800'"
      ]
     },
     "execution_count": 38,
     "metadata": {},
     "output_type": "execute_result"
    }
   ],
   "source": [
    "dataDf[-1:]['종목코드'].iloc[0]"
   ]
  },
  {
   "cell_type": "code",
   "execution_count": 65,
   "metadata": {},
   "outputs": [
    {
     "data": {
      "text/plain": [
       "array([['A263800', '데이타솔루션', 20230707, 1236, 5990.0, 5990.0, 5980.0,\n",
       "        5990.0, 216860.0]], dtype=object)"
      ]
     },
     "execution_count": 65,
     "metadata": {},
     "output_type": "execute_result"
    }
   ],
   "source": [
    "dataDf[-1:].values"
   ]
  },
  {
   "cell_type": "code",
   "execution_count": 66,
   "metadata": {},
   "outputs": [
    {
     "data": {
      "text/plain": [
       "array(['종목코드', '종목명', '날짜', '시간', '시가', '고가', '저가', '종가', '거래량'],\n",
       "      dtype=object)"
      ]
     },
     "execution_count": 66,
     "metadata": {},
     "output_type": "execute_result"
    }
   ],
   "source": [
    "dataDf.columns.values"
   ]
  },
  {
   "cell_type": "code",
   "execution_count": 48,
   "metadata": {},
   "outputs": [
    {
     "data": {
      "text/plain": [
       "종목코드     A263800\n",
       "종목명       데이타솔루션\n",
       "날짜      20230707\n",
       "시간          1236\n",
       "시가        5990.0\n",
       "고가        5990.0\n",
       "저가        5980.0\n",
       "종가        5990.0\n",
       "거래량     216860.0\n",
       "Name: 146184, dtype: object"
      ]
     },
     "execution_count": 48,
     "metadata": {},
     "output_type": "execute_result"
    }
   ],
   "source": [
    "dataDf[-1:].iloc[0]"
   ]
  }
 ],
 "metadata": {
  "kernelspec": {
   "display_name": "dl-dev-gpu",
   "language": "python",
   "name": "python3"
  },
  "language_info": {
   "codemirror_mode": {
    "name": "ipython",
    "version": 3
   },
   "file_extension": ".py",
   "mimetype": "text/x-python",
   "name": "python",
   "nbconvert_exporter": "python",
   "pygments_lexer": "ipython3",
   "version": "3.10.11"
  },
  "orig_nbformat": 4
 },
 "nbformat": 4,
 "nbformat_minor": 2
}
